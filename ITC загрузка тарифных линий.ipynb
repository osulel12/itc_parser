{
 "cells": [
  {
   "cell_type": "markdown",
   "id": "398548a6",
   "metadata": {},
   "source": [
    "## Навигация\n",
    "- **[Функции обработки данных](#Функции-обработки-данных)**\n",
    "- **[Трансформация данных](#Трансформация-данных)**\n",
    "- **[Сборка для Импорт](#Сборка-для-Импорт)**\n",
    "- **[Сборка для Экспорт](#Сборка-для-Экспорт)**\n",
    "- **[Сборка основного датасета](#Сборка-основного-датасета)**\n",
    "- **[Сохраняем данные в БД](#Сохраняем-данные-в-БД)**"
   ]
  },
  {
   "cell_type": "code",
   "execution_count": 1,
   "id": "5820a087",
   "metadata": {},
   "outputs": [],
   "source": [
    "import pandas as pd\n",
    "import numpy as np\n",
    "import os\n",
    "from pathlib import Path \n",
    "\n",
    "from tqdm import tqdm\n",
    "import warnings\n",
    "warnings.simplefilter('ignore') \n",
    "\n",
    "# Для автоматического закрытия курсора\n",
    "from contextlib import closing\n",
    "\n",
    "import psycopg2\n",
    "from psycopg2 import Error\n",
    "from sqlalchemy import create_engine\n",
    "\n",
    "import json\n",
    "from datetime import datetime\n",
    "\n",
    "from dotenv import load_dotenv\n",
    "\n",
    "# Сброс ограничений на число столбцов\n",
    "pd.set_option('display.max_columns', None)"
   ]
  },
  {
   "cell_type": "code",
   "execution_count": 2,
   "id": "cf3efca5",
   "metadata": {},
   "outputs": [],
   "source": [
    "dotenv_path = './.env'\n",
    "if os.path.exists(dotenv_path):\n",
    "    load_dotenv(dotenv_path)"
   ]
  },
  {
   "cell_type": "code",
   "execution_count": 3,
   "id": "9569b980",
   "metadata": {},
   "outputs": [],
   "source": [
    "dict_postgres_cred = {'user': os.getenv('USER_NAME_PG'),\n",
    "                      'password': os.getenv('PASSWORD_PG'),\n",
    "                      'host': os.getenv('HOST_PG'),\n",
    "                      'port': os.getenv('PORT_PG'),\n",
    "                      'database': os.getenv('DATABASE_PG')}"
   ]
  },
  {
   "cell_type": "code",
   "execution_count": 4,
   "id": "75e64e24",
   "metadata": {},
   "outputs": [],
   "source": [
    "# Инициализация подключений для работы с БД\n",
    "engine = psycopg2.connect(user=dict_postgres_cred['user'],\n",
    "                          password=dict_postgres_cred['password'],\n",
    "                          host=dict_postgres_cred['host'],\n",
    "                          port=dict_postgres_cred['port'],\n",
    "                          database=dict_postgres_cred['database'])\n",
    "conn = create_engine('postgresql://{}:{}@{}:{}/{}'\n",
    "                     .format(dict_postgres_cred['user'], dict_postgres_cred['password'], \n",
    "                             dict_postgres_cred['host'], dict_postgres_cred['port'], dict_postgres_cred['database']))\n"
   ]
  },
  {
   "cell_type": "code",
   "execution_count": 5,
   "id": "229324d5",
   "metadata": {},
   "outputs": [],
   "source": [
    "# Функция для переименования всех столбцов\n",
    "def rep(name):\n",
    "    return str(name) \n",
    "\n",
    "def rep_2(name):\n",
    "    return str(name).replace('-', '_') \n",
    "\n",
    "def rep_3(name):\n",
    "    return str(name).replace(' ', '_') "
   ]
  },
  {
   "cell_type": "code",
   "execution_count": 6,
   "id": "6e1ae5fa",
   "metadata": {},
   "outputs": [],
   "source": [
    "# Словаврь для партнера\n",
    "query_country_add = f\"\"\"\n",
    "\n",
    "SELECT code, name_itc FROM add\n",
    "\n",
    "\"\"\"\n",
    "df_country_add = pd.read_sql(query_country_add, con=engine)\n",
    "\n",
    "# Подготовим колонку для мержа\n",
    "df_country_add['test_name'] = df_country_add.name_itc.apply(lambda x: x.replace(',', ''))\n",
    "\n",
    "# Чистим данные\n",
    "df_country_add.drop_duplicates(subset=['name_itc'], inplace=True)"
   ]
  },
  {
   "cell_type": "code",
   "execution_count": 7,
   "id": "2da53634",
   "metadata": {},
   "outputs": [],
   "source": [
    "# Словарь для присовения кодов Репортеру\n",
    "dict_partner_code = {}\n",
    "dct_itc_and_test_name = {}\n",
    "for code_itc, name_test in zip(list(df_country_add.code), list(df_country_add.test_name)):\n",
    "    if name_test not in dict_partner_code:\n",
    "        dict_partner_code[name_test] = code_itc\n",
    "    else:\n",
    "        continue\n",
    "# Для сопоставления наших названий стран и стран из itc\n",
    "for itc_name, name_test in zip(list(df_country_add.name_itc), list(df_country_add.test_name)):\n",
    "    if name_test not in dct_itc_and_test_name:\n",
    "        dct_itc_and_test_name[name_test] = itc_name\n",
    "    else:\n",
    "        continue"
   ]
  },
  {
   "cell_type": "code",
   "execution_count": 8,
   "id": "d4bfe50b",
   "metadata": {},
   "outputs": [],
   "source": [
    "def get_need_tnved_code() -> dict:\n",
    "    \"\"\"\n",
    "    Возвращает набор необходимых кодов ТНВЭД\n",
    "\n",
    "    :return: словарь с кодами (пока что на 6 знаках 'code_6')\n",
    "    \"\"\"\n",
    "   \n",
    "    dict_return = {'code_6': []}\n",
    "    with conn.connect() as connection:\n",
    "        rez_query = connection.execute(\"\"\"SELECT DISTINCT(LEFT(code,6)) \n",
    "                                               FROM ed \n",
    "                                               WHERE type = 10 AND prod_type = 'apk' AND LEFT(code, 2)::int > 24\"\"\")\n",
    "    for code in rez_query.fetchall():\n",
    "        code_cleare = code[0]\n",
    "        dict_return['code_6'].append(code_cleare)\n",
    "    return dict_return\n",
    "\n",
    "dict_need_tnved_code_apk = get_need_tnved_code()"
   ]
  },
  {
   "cell_type": "markdown",
   "id": "a6ba327b",
   "metadata": {},
   "source": [
    "# Функции обработки данных"
   ]
  },
  {
   "cell_type": "code",
   "execution_count": 9,
   "id": "cc014b81",
   "metadata": {},
   "outputs": [],
   "source": [
    "def trade_value_build(path_values: str, type_operation: int) -> pd.DataFrame:\n",
    "    \"\"\"\n",
    "    Собирает все файлы в один датафрейм для переданного направления торговли\n",
    "    по переданному пути\n",
    "    \n",
    "    :param path_values: путь к файлам для TRADE_VALUE\n",
    "    \n",
    "    :param type_operation: тип операции (импорт - 1 или экспорт - 2)\n",
    "    \n",
    "    :return: очищенный датафрейм с данными по TRADE_VALUE\n",
    "    \"\"\"\n",
    "    # Объект типа Path для TRADE_VALUE\n",
    "    way_pah_values = Path(path_values)\n",
    "\n",
    "    # Пустой датафрейм для сборки всех значений trade_value\n",
    "    void_df_value = pd.DataFrame()\n",
    "\n",
    "    # Сбор файлов trade_value\n",
    "    for i in tqdm(way_pah_values.glob(\"**/Tra*Bil*.txt\")):\n",
    "\n",
    "        if flag_and_in_reporter_name:\n",
    "            # Если в названии репортера присутствует _and_ : Antigua_and_Barbuda\n",
    "            reporter = ' and '.join(str(i).split('_between_')[1].split('_and_')[:2]).replace('_', ' ').replace('  ', ' ')\n",
    "            partner = ' and '.join(str(i).split('_between_')[1].split('_and_')[2:]).replace('.txt', '').replace('_', ' ').replace('  ', ' ')  \n",
    "        else:\n",
    "            # Если репортер без _and_ : Cabo_Verde\n",
    "            reporter = str(i).split('_between_')[1].split('_and_')[0].replace('_', ' ').replace('  ', ' ')\n",
    "            partner = ' and '.join(str(i).split('_between_')[1].split('_and_')[1:]).replace('.txt', '').replace('_', ' ').replace('  ', ' ')\n",
    "\n",
    "        temp_df = pd.read_table(i, dtype={'Product code': 'str'})\n",
    "\n",
    "        # Получаем нужное количество колонок\n",
    "        need_max_year = max([int(i.split(' in ')[-1]) for i in temp_df.columns.tolist() if ' in ' in i])\n",
    "        for temp in range(len(list(temp_df.columns))):\n",
    "            if f'-Value in {need_max_year}' in list(temp_df.columns)[temp]:\n",
    "                temp_number_columns = temp + 1\n",
    "                break\n",
    "        if partner == 'World':\n",
    "            temp_df = temp_df.drop(columns=list(temp_df.iloc[:, 2:16].columns)).iloc[:, 0:14]\n",
    "        else:\n",
    "            temp_df = temp_df.iloc[:,0:temp_number_columns]\n",
    "\n",
    "        # Расплавляем датасет\n",
    "        temp_df = temp_df.melt(id_vars=['Product code', 'Product label'])\n",
    "        temp_df.rename(columns = rep_3, inplace=True)\n",
    "        \n",
    "        # Отсекаем не нужное\n",
    "        temp_df.fillna(0, inplace=True)\n",
    "        temp_df = temp_df.query('value > 0 and Product_code != \"TOTAL\"')\n",
    "        temp_df = temp_df[\n",
    "            (temp_df['Product_code'].str[:2].astype(int) <= 24) |\n",
    "            (temp_df['Product_code'].str[:2].astype(int) == 31) |\n",
    "            (temp_df['Product_code'].str[:6].isin(dict_need_tnved_code_apk['code_6']))\n",
    "            ]\n",
    "        \n",
    "       \n",
    "        # Добавляем столбцы\n",
    "        temp_df = temp_df.assign(reporter_country = reporter ,partner_country = partner, trade_flow_code = type_operation, \n",
    "                                classification='HS', update_date=datetime.now().strftime('%Y-%m-%d'))\n",
    "        temp_df['year_transaction'] = temp_df.variable.apply(lambda x: x.split(' in ')[1])\n",
    "        temp_df['period'] = temp_df.year_transaction.apply(lambda x: datetime.strptime('01-01-' + x, '%d-%m-%Y'))\n",
    "        temp_df['aggregate_level'] = 6\n",
    "        temp_df['flag'] = 0\n",
    "        temp_df['plus'] = 0\n",
    "        temp_df['load_mark'] = 1\n",
    "        temp_df['value'] = temp_df.value.mul(1000)\n",
    "        void_df_value = pd.concat((void_df_value, temp_df))\n",
    "\n",
    "    # Создаем колонку для мержа\n",
    "    void_df_value['test_name'] = void_df_value.partner_country.apply(lambda x: x)\n",
    "    # Удаляем лишнее\n",
    "    void_df_value.drop(columns='variable', inplace=True)\n",
    "\n",
    "    # Мержим наш void_df_value с COUNTRY_ADD\n",
    "    df_merge = void_df_value.merge(df_country_add, how='left',  on='test_name')\n",
    "\n",
    "    df_merge.rename(columns={'code': 'partner_code'}, inplace=True)\n",
    "    # В зависимости от страны проставляем код\n",
    "    df_merge['reporter_code'] = df_merge.reporter_country.apply(lambda x: dict_partner_code[x])\n",
    "    \n",
    "    return df_merge"
   ]
  },
  {
   "cell_type": "code",
   "execution_count": 10,
   "id": "fce2a8f2",
   "metadata": {},
   "outputs": [],
   "source": [
    "# Класс для проверки загрузки данных в БД и их очистку\n",
    "class Check_zero_in_db_value:\n",
    "    \n",
    "    def __init__(self, reporter_code, engine_class, df):\n",
    "        \"\"\"\n",
    "        reporter_code: код репортера\n",
    "        engine_class: движок подключения к БД\n",
    "        df: полученный датафрейм на этапе обработки данных\n",
    "        \"\"\"\n",
    "        self.reporter_code = reporter_code\n",
    "        self.engine_class = engine_class\n",
    "        self.df = df\n",
    "    \n",
    "    def get_count_rows(self, need_year=None):\n",
    "        \"\"\"\n",
    "        need_year: минимально максимальный год из ранее загруженных данных в БД\n",
    "        return: количество строк по конкретному репортеру в БД\n",
    "        \"\"\"\n",
    "        # Если такой год присутствует, то вернуть рассчет без его учета\n",
    "        # Для корректной валидации\n",
    "        if need_year:\n",
    "            return pd.read_sql(f\"\"\"SELECT COUNT(year) as count_rows \n",
    "                                   FROM tl \n",
    "                                   WHERE reporter_code = {self.reporter_code} AND year > {need_year}\"\"\",\n",
    "                            con=self.engine_class).count_rows[0]\n",
    "        # Если данных нет или они полностью совпадают, то посчитать все строки\n",
    "        else:\n",
    "            return pd.read_sql(f\"\"\"SELECT COUNT(year) as count_rows \n",
    "                                   FROM tl \n",
    "                                   WHERE reporter_code = {self.reporter_code}\"\"\",\n",
    "                            con=self.engine_class).count_rows[0]\n",
    "    \n",
    "    def get_min_year_in_db(self, need_year):\n",
    "        \"\"\"\n",
    "        need_year: минимальный год из датафрейма\n",
    "        return: максимальный год из всех годов, которые меньше need_year или need_year если таковых нет\n",
    "        \"\"\"\n",
    "        year_list = pd.read_sql(f\"\"\"SELECT DISTINCT(year) AS year \n",
    "                                    FROM tl\n",
    "                                    WHERE reporter_code = {self.reporter_code} AND year < {need_year}\n",
    "                                    ORDER BY year\"\"\",\n",
    "                        con=self.engine_class).year\n",
    "        return need_year if year_list.shape[0]  == 0 else year_list.max()\n",
    "    \n",
    "    def get_min_year_in_df(self):\n",
    "        \"\"\"\n",
    "        return: минимальный год из датафрейма\n",
    "        \"\"\"\n",
    "        return min([int(y) for y in self.df.year.unique()])\n",
    "        \n",
    "    def delete_need_value(self):\n",
    "        \"\"\"\n",
    "        return: True если очистка прошла успешно, иначе False\n",
    "        \"\"\"\n",
    "        if (self.get_min_year_in_df() == self.get_min_year_in_db(self.get_min_year_in_df())) or \\\n",
    "            (self.get_min_year_in_db(self.get_min_year_in_df()) > self.get_min_year_in_df()):\n",
    "                \n",
    "            with self.engine_class.cursor() as cr:\n",
    "                cr.execute(f\"\"\"DELETE FROM tl \n",
    "                               WHERE reporter_code = {self.reporter_code}\"\"\")\n",
    "                self.engine_class.commit()\n",
    "            return self.get_count_rows() == 0\n",
    "        \n",
    "        elif self.get_min_year_in_db(self.get_min_year_in_df()) < self.get_min_year_in_df():\n",
    "\n",
    "            with self.engine_class.cursor() as cr:\n",
    "                cr.execute(f\"\"\"DELETE FROM tl \n",
    "                               WHERE reporter_code = {self.reporter_code} \n",
    "                               AND year > {self.get_min_year_in_db(self.get_min_year_in_df())}\"\"\")\n",
    "                self.engine_class.commit()\n",
    "            return self.get_count_rows(self.get_min_year_in_db(self.get_min_year_in_df())) == 0\n",
    "        \n",
    "    def check_value(self):\n",
    "        if self.get_count_rows() == 0:\n",
    "            return True\n",
    "        return self.delete_need_value()"
   ]
  },
  {
   "cell_type": "markdown",
   "id": "02eb82a6",
   "metadata": {},
   "source": [
    "# Трансформация данных"
   ]
  },
  {
   "cell_type": "code",
   "execution_count": 11,
   "id": "b902058d",
   "metadata": {},
   "outputs": [],
   "source": [
    "# Для формирования путей к нужным папкам с файлами\n",
    "type_flow_import = 'Imports'\n",
    "type_flow_export = 'Exports'\n",
    "value = 'Values'"
   ]
  },
  {
   "cell_type": "code",
   "execution_count": 12,
   "id": "30979228",
   "metadata": {},
   "outputs": [],
   "source": [
    "# \"Kazakhstan\", \"Türkiye\""
   ]
  },
  {
   "cell_type": "code",
   "execution_count": 48,
   "id": "13a42007",
   "metadata": {},
   "outputs": [],
   "source": [
    "# Подставить нужного репортера\n",
    "reporter_name = 'Türkiye'\n",
    "# Флаг. Если в имени репортера присутствует and (Antigua_and_Barbuda) Присвоить значение True, иначе False\n",
    "flag_and_in_reporter_name = False"
   ]
  },
  {
   "cell_type": "code",
   "execution_count": 49,
   "id": "3490c00d",
   "metadata": {},
   "outputs": [],
   "source": [
    "# 'Imports' = 1 'Exports' = 2\n",
    "# Ссылки для Импорта\n",
    "path_values_import = os.path.join(os.getcwd(), f\"\"\"{reporter_name}_{type_flow_import}_{value}_Tariff\"\"\")\n",
    "\n",
    "# Ссылки для Экспорта\n",
    "path_values_export = os.path.join(os.getcwd(), f\"\"\"{reporter_name}_{type_flow_export}_{value}_Tariff\"\"\")\n"
   ]
  },
  {
   "cell_type": "code",
   "execution_count": 50,
   "id": "be75b198",
   "metadata": {},
   "outputs": [],
   "source": [
    "# Удаляем скаченные дубликаты, если такие есть\n",
    "# Для trade_value Imports\n",
    "for val in Path(path_values_import).glob(\"**/*(1)*.txt\"):\n",
    "    print(val)\n",
    "    val.unlink()"
   ]
  },
  {
   "cell_type": "code",
   "execution_count": 51,
   "id": "5a5a5219",
   "metadata": {},
   "outputs": [],
   "source": [
    "# Удаляем скаченные дубликаты, если такие есть\n",
    "# Для trade_value Exports\n",
    "for val in Path(path_values_export).glob(\"**/*(1)*.txt\"):\n",
    "    print(val)\n",
    "    val.unlink()"
   ]
  },
  {
   "cell_type": "markdown",
   "id": "ae4093be",
   "metadata": {},
   "source": [
    "# Сборка для Импорт"
   ]
  },
  {
   "cell_type": "code",
   "execution_count": 52,
   "id": "a40df42c",
   "metadata": {},
   "outputs": [
    {
     "name": "stderr",
     "output_type": "stream",
     "text": [
      "254it [00:42,  5.98it/s]\n"
     ]
    }
   ],
   "source": [
    "# Датафрейм Импорт tarde_value\n",
    "df_trade_value_import = trade_value_build(path_values_import, 1)"
   ]
  },
  {
   "cell_type": "code",
   "execution_count": 53,
   "id": "cbc9cb59",
   "metadata": {},
   "outputs": [],
   "source": [
    "df_trade_value_import = df_trade_value_import[['Product_code', 'Product_label', 'value', 'reporter_country', 'partner_country', 'trade_flow_code',\n",
    "                   'classification', 'update_date', 'year_transaction', 'period', 'aggregate_level', 'flag', 'plus', 'load_mark',\n",
    "                   'partner_code', 'reporter_code', 'name_itc']]\n",
    "\n",
    "df_trade_value_import.rename(columns={'Product_code': 'commodity_code', 'value': 'trade_value', 'year_transaction': 'year'}, \n",
    "                      inplace=True)"
   ]
  },
  {
   "cell_type": "markdown",
   "id": "26d8a654",
   "metadata": {},
   "source": [
    "# Сборка для Экспорт"
   ]
  },
  {
   "cell_type": "code",
   "execution_count": 54,
   "id": "9d7bac86",
   "metadata": {},
   "outputs": [
    {
     "name": "stderr",
     "output_type": "stream",
     "text": [
      "254it [00:47,  5.29it/s]\n"
     ]
    }
   ],
   "source": [
    "# Датафрейм Экспорт tarde_value\n",
    "df_trade_value_export = trade_value_build(path_values_export, 2)"
   ]
  },
  {
   "cell_type": "code",
   "execution_count": 55,
   "id": "ab070ab3",
   "metadata": {},
   "outputs": [],
   "source": [
    "df_trade_value_export = df_trade_value_export[['Product_code', 'Product_label', 'value', 'reporter_country', 'partner_country', 'trade_flow_code',\n",
    "                   'classification', 'update_date', 'year_transaction', 'period', 'aggregate_level', 'flag', 'plus', 'load_mark',\n",
    "                   'partner_code', 'reporter_code', 'name_itc']]\n",
    "\n",
    "df_trade_value_export.rename(columns={'Product_code': 'commodity_code', 'value': 'trade_value', 'year_transaction': 'year'}, \n",
    "                      inplace=True)"
   ]
  },
  {
   "cell_type": "markdown",
   "id": "7a490208",
   "metadata": {},
   "source": [
    "### [⬅ Навигация](#Навигация)"
   ]
  },
  {
   "cell_type": "markdown",
   "id": "e8032526",
   "metadata": {},
   "source": [
    "# Сборка основного датасета"
   ]
  },
  {
   "cell_type": "code",
   "execution_count": 56,
   "id": "f1efb74b",
   "metadata": {},
   "outputs": [],
   "source": [
    "# Собираем все данные в один датафрейм\n",
    "df_all_data = pd.concat((df_trade_value_import, df_trade_value_export))"
   ]
  },
  {
   "cell_type": "code",
   "execution_count": 57,
   "id": "8106a6bd",
   "metadata": {},
   "outputs": [],
   "source": [
    "# Выбираем нужные столбцы в нужном порядке\n",
    "df_all_data = df_all_data[['classification', 'year', 'period', 'aggregate_level', 'trade_flow_code', 'reporter_code', \n",
    "                       'partner_code', 'commodity_code', 'trade_value', 'flag', 'plus', 'load_mark', 'update_date']]"
   ]
  },
  {
   "cell_type": "code",
   "execution_count": 58,
   "id": "009e2b76",
   "metadata": {},
   "outputs": [
    {
     "data": {
      "text/plain": [
       "(547577, 19)"
      ]
     },
     "execution_count": 58,
     "metadata": {},
     "output_type": "execute_result"
    }
   ],
   "source": [
    "df_all_data['qty_unit_code'] = 0\n",
    "df_all_data['qty'] = 0\n",
    "df_all_data['netweight'] = 0\n",
    "df_all_data['update_date'] = datetime.now().strftime('%Y-%m-%d')\n",
    "df_all_data['customs_proc_code'] = 'C00'\n",
    "df_all_data['mode_of_transport_code'] = '0'\n",
    "df_all_data['partner_code_2nd'] = 0\n",
    "df_all_data.shape"
   ]
  },
  {
   "cell_type": "code",
   "execution_count": 60,
   "id": "7f897c6a",
   "metadata": {},
   "outputs": [],
   "source": [
    "# ПОТОМ УДАЛИТЬ\n",
    "df_all_data['region_code'] = 'NNNNN'"
   ]
  },
  {
   "cell_type": "code",
   "execution_count": 61,
   "id": "3b27361b",
   "metadata": {},
   "outputs": [
    {
     "data": {
      "text/plain": [
       "classification            0\n",
       "year                      0\n",
       "period                    0\n",
       "aggregate_level           0\n",
       "trade_flow_code           0\n",
       "reporter_code             0\n",
       "partner_code              0\n",
       "commodity_code            0\n",
       "trade_value               0\n",
       "flag                      0\n",
       "plus                      0\n",
       "load_mark                 0\n",
       "update_date               0\n",
       "qty_unit_code             0\n",
       "qty                       0\n",
       "netweight                 0\n",
       "customs_proc_code         0\n",
       "mode_of_transport_code    0\n",
       "partner_code_2nd          0\n",
       "region_code               0\n",
       "dtype: int64"
      ]
     },
     "execution_count": 61,
     "metadata": {},
     "output_type": "execute_result"
    }
   ],
   "source": [
    "df_all_data.isna().sum()"
   ]
  },
  {
   "cell_type": "markdown",
   "id": "5119d2b9",
   "metadata": {},
   "source": [
    "### [⬅ Навигация](#Навигация)"
   ]
  },
  {
   "cell_type": "markdown",
   "id": "efc799bf",
   "metadata": {},
   "source": [
    "# Сохраняем данные в БД"
   ]
  },
  {
   "cell_type": "code",
   "execution_count": 64,
   "id": "56308783",
   "metadata": {},
   "outputs": [],
   "source": [
    "# Получаем код репортера\n",
    "reporter_code_for_check = df_all_data.reporter_code.unique()[0]"
   ]
  },
  {
   "cell_type": "code",
   "execution_count": 65,
   "id": "e8ddb7bc",
   "metadata": {},
   "outputs": [
    {
     "data": {
      "text/plain": [
       "['2013',\n",
       " '2014',\n",
       " '2015',\n",
       " '2016',\n",
       " '2017',\n",
       " '2018',\n",
       " '2019',\n",
       " '2020',\n",
       " '2021',\n",
       " '2022',\n",
       " '2023',\n",
       " '2024']"
      ]
     },
     "execution_count": 65,
     "metadata": {},
     "output_type": "execute_result"
    }
   ],
   "source": [
    "# Перед записью в БД проверим года\n",
    "sorted(df_all_data.year.unique().tolist())"
   ]
  },
  {
   "cell_type": "code",
   "execution_count": 66,
   "id": "28b2868c",
   "metadata": {},
   "outputs": [
    {
     "name": "stdout",
     "output_type": "stream",
     "text": [
      "Загружаем репортера 792\n",
      "2013, количество строк: 32558\n",
      "2014, количество строк: 37319\n",
      "2015, количество строк: 37233\n",
      "2016, количество строк: 37649\n",
      "2017, количество строк: 39745\n",
      "2018, количество строк: 40740\n",
      "2019, количество строк: 41200\n",
      "2020, количество строк: 50149\n",
      "2021, количество строк: 56349\n",
      "2022, количество строк: 57380\n",
      "2023, количество строк: 58048\n",
      "2024, количество строк: 59207\n"
     ]
    }
   ],
   "source": [
    "# Запись в партиции БД\n",
    "if Check_zero_in_db_value(reporter_code_for_check, engine, df_all_data).check_value():\n",
    "    print(f'Загружаем репортера {reporter_code_for_check}')\n",
    "    for year_cycle in df_all_data.year.unique().tolist():\n",
    "\n",
    "        df_data_in_bd = df_all_data.query('year == @year_cycle')\n",
    "        print(f'{year_cycle}, количество строк: {df_data_in_bd.shape[0]}')\n",
    "        df_data_in_bd.to_sql(f'_{year_cycle}', \n",
    "                             con=conn, \n",
    "                             schema='', \n",
    "                             if_exists='append', index=False)\n",
    "else:\n",
    "    print('Старые данные не очищенны')"
   ]
  },
  {
   "cell_type": "code",
   "execution_count": 67,
   "id": "df3a3a2f",
   "metadata": {},
   "outputs": [
    {
     "data": {
      "text/plain": [
       "'2013'"
      ]
     },
     "execution_count": 67,
     "metadata": {},
     "output_type": "execute_result"
    }
   ],
   "source": [
    "Check_zero_in_db_value(reporter_code_for_check, engine, df_all_data).get_min_year_in_db(df_all_data.year.min())"
   ]
  },
  {
   "cell_type": "code",
   "execution_count": 68,
   "id": "112351f3",
   "metadata": {},
   "outputs": [
    {
     "data": {
      "text/plain": [
       "True"
      ]
     },
     "execution_count": 68,
     "metadata": {},
     "output_type": "execute_result"
    }
   ],
   "source": [
    "# Если данные уже были в базе передать в параметр get_count_rows год\n",
    "# Пример, у нас в датафрейме минимальный год 2011, но в базе есть 2009 и 2010 года (их мы не обновляем)\n",
    "# Для корретной валидации нужно передать 2010 год(максимальный год, который есть в базе, но нет в датафрейме)\n",
    "df_all_data.shape[0] ==  Check_zero_in_db_value(reporter_code_for_check, engine, df_all_data).get_count_rows(2012)"
   ]
  },
  {
   "cell_type": "markdown",
   "id": "ce5b8281",
   "metadata": {},
   "source": [
    "-------"
   ]
  },
  {
   "cell_type": "markdown",
   "id": "8cf6d4bf",
   "metadata": {},
   "source": [
    "### [⬅ Навигация](#Навигация)"
   ]
  }
 ],
 "metadata": {
  "kernelspec": {
   "display_name": "Python 3 (ipykernel)",
   "language": "python",
   "name": "python3"
  },
  "language_info": {
   "codemirror_mode": {
    "name": "ipython",
    "version": 3
   },
   "file_extension": ".py",
   "mimetype": "text/x-python",
   "name": "python",
   "nbconvert_exporter": "python",
   "pygments_lexer": "ipython3",
   "version": "3.11.5"
  }
 },
 "nbformat": 4,
 "nbformat_minor": 5
}
